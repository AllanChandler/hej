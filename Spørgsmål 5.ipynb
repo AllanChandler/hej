{
 "cells": [
  {
   "cell_type": "markdown",
   "id": "e28cdb01-e0ad-4e4a-b0dd-3378e5bb3b1b",
   "metadata": {},
   "source": [
    "# Import af biblioteker  "
   ]
  },
  {
   "cell_type": "code",
   "execution_count": null,
   "id": "cb643dca-2ecb-4440-93a2-23b0bdd72336",
   "metadata": {},
   "outputs": [],
   "source": [
    "import pandas as pd\n",
    "import numpy as np\n",
    "import matplotlib.pyplot as plt\n",
    "import seaborn as sns"
   ]
  },
  {
   "cell_type": "markdown",
   "id": "af6b8eb3-5881-4c69-8981-8177478d48d0",
   "metadata": {},
   "source": [
    "# 1. Indlæsning af data"
   ]
  },
  {
   "cell_type": "code",
   "execution_count": null,
   "id": "97cfbb0a-018d-4e2b-b45b-3625b2b10e9f",
   "metadata": {},
   "outputs": [],
   "source": [
    "df = pd.read_csv('../data/Data_Train.csv')\n",
    "df.sample(5)"
   ]
  },
  {
   "cell_type": "markdown",
   "id": "696ec8cc-da0e-4f6a-a964-45011756fa50",
   "metadata": {},
   "source": [
    "Vi har importeret dataene og lavet en hurtig gennemgang for at få et overblik over datasættet. Nu går vi videre med at forberede og rense dataene, så de er klar til analyse."
   ]
  },
  {
   "cell_type": "markdown",
   "id": "3be6db84-4576-49b6-a403-a3e51b2d3dc0",
   "metadata": {},
   "source": [
    "# 2. Rensning af data"
   ]
  },
  {
   "cell_type": "code",
   "execution_count": null,
   "id": "4eed48e6-b661-4c4f-97ab-73507661e0fa",
   "metadata": {},
   "outputs": [],
   "source": [
    "# Tjekker for manglende værdier\n",
    "print(\"Tjekker for manglende værdier:\")\n",
    "print(df.isnull().sum())\n",
    "\n",
    "# Tjekker for NaN-værdier\n",
    "print(\"Tjekker for NaN-værdier:\")\n",
    "print(df.isna().sum())\n",
    "\n",
    "# Tjekker for datatyper\n",
    "print(\"Tjekker for datatyper:\")\n",
    "print(df.info())\n",
    "\n",
    "# Tjekker for duplikater\n",
    "print(\"Tjekker for duplikater:\")\n",
    "print(df.duplicated().sum()) "
   ]
  },
  {
   "cell_type": "code",
   "execution_count": null,
   "id": "e346653f-db8e-4417-80e1-3a701cfe61db",
   "metadata": {},
   "outputs": [],
   "source": [
    "# Finder alle rækker der er identiske med mindst én anden (keep=False viser ALLE forekomster)\n",
    "fulde_duplikater = df[df.duplicated(keep=False)]\n",
    "\n",
    "# Udskriver samlet antal duplikerede rækker\n",
    "print(\"Antal fuldstændige duplikatrækker (inkl. kopier):\", fulde_duplikater.shape[0])\n",
    "\n",
    "# Viser et par eksempler på de duplikerede rækker\n",
    "print(\"\\nEksempler på duplikerede rækker:\")\n",
    "print(fulde_duplikater.head())\n",
    "\n",
    "# Tæller hvor mange af disse er faktiske kopier (ikke første forekomst)\n",
    "antal_egentlige_duplikater = df[df.duplicated(keep=False)].duplicated().sum()\n",
    "print(\"\\nAntal gentagelser (egentlige duplikater):\", antal_egentlige_duplikater)\n",
    "\n",
    "# Tjekker hvor mange unikke rækker er det der gentages?\n",
    "unikke_rækker = fulde_duplikater.drop_duplicates()\n",
    "print(\"Antal unikke rækker blandt de duplikerede:\", unikke_rækker.shape[0])\n",
    "\n",
    "# Eksempel 1: Række 2\n",
    "print(\"\\nForekomster af række 2:\")\n",
    "print(df[df.eq(df.loc[2]).all(axis=1)])\n",
    "\n",
    "# Eksempel 2: Række 6\n",
    "print(\"\\nForekomster af række 6:\")\n",
    "print(df[df.eq(df.loc[6]).all(axis=1)])"
   ]
  },
  {
   "cell_type": "code",
   "execution_count": null,
   "id": "7456300a-354c-42d3-afd7-a5bf6ab36644",
   "metadata": {},
   "outputs": [],
   "source": [
    "# Fjerner duplikaterne fra datasættet for at sikre, at kun unikke observationer er tilbage\n",
    "df = df.drop_duplicates()\n",
    "print(\"Datasættets nye størrelse efter sletning af duplikater:\", df.shape)"
   ]
  },
  {
   "cell_type": "markdown",
   "id": "59b17479-0774-4aea-9caf-4825c7deb85b",
   "metadata": {},
   "source": [
    "Datasættet indeholder ikke nogen manglende værdier, hverken som NaN eller null. Datatyperne består hovedsageligt af tekst (object), som vi vil konvertere til string, samt nogle numeriske kolonner, der er defineret som heltal (int64) og decimaltal (float64).\n",
    "\n",
    "Datasættet indeholder en del duplikater, hvor nogle rækker er præcist ens. Selvom duplikater kan være nyttige i nogle analyser, har vi valgt at fjerne dem her. Det gør vi for at sikre, at hver række i datasættet bidrager unikt til vores analyser og modeller. Ved at fjerne duplikaterne undgår vi, at nogle observationer får for stor vægt i analysen, hvilket kan påvirke resultaterne. Dette er vigtigt, både for lineær regression og andre statistiske analyser og maskinlæringsmodeller.\n",
    "\n",
    "Nu opdeles datasættet i to separate dataframes: en med numeriske værdier og en med nominelle (kategoriske) data, da det bliver lettere at arbejde med disse typer."
   ]
  },
  {
   "cell_type": "code",
   "execution_count": null,
   "id": "825afce6-d1f9-499d-b6cd-5c38c79d6743",
   "metadata": {},
   "outputs": [],
   "source": [
    "# Fjerner 'Dep_Time' kolonnen, da den ikke er relevant for analysen\n",
    "df.drop(['Dep_Time'], axis=1, inplace=True) "
   ]
  },
  {
   "cell_type": "code",
   "execution_count": null,
   "id": "30b18330-6035-48fb-82e0-1fc298c9b8fa",
   "metadata": {},
   "outputs": [],
   "source": [
    "# Konverterer kolonnen 'Date_of_Journey' fra tekstformat til datetime-objekter med formatet dag/måned/år\n",
    "df['Date_of_Journey'] = pd.to_datetime(df['Date_of_Journey'], format='%d/%m/%Y')\n",
    "\n",
    "# Ekstraherer måneden fra 'Date_of_Journey' og gemmer den som en ny kolonne 'Journey_month' som int64\n",
    "df['Journey_month'] = df['Date_of_Journey'].dt.month.astype('int64')\n",
    "\n",
    "# Fjerner den oprindelige 'Date_of_Journey'-kolonne, da vi har ekstraheret måneden og kun denne er relevant fremover\n",
    "df.drop('Date_of_Journey', axis=1, inplace=True)"
   ]
  },
  {
   "cell_type": "markdown",
   "id": "1542542a-f2e0-412b-807d-0b7f057d170d",
   "metadata": {},
   "source": [
    "De resterende kolonner beholdes i datasættet, da de kan være relevante i senere analyser."
   ]
  },
  {
   "cell_type": "code",
   "execution_count": null,
   "id": "4e15d10c-b541-4f3d-8687-a8c2bb234e0e",
   "metadata": {},
   "outputs": [],
   "source": [
    "# Opdaterer 'Class'-kolonnen baseret på information i 'Airline', \n",
    "# da den oprindelige 'Class'-kolonne kun indeholdt null-værdier og derfor var ubrugelig.\n",
    "df['Class'] = df['Airline'].apply(\n",
    "    lambda x: 'Business' if 'Business' in x \n",
    "    else 'Premium economy' if 'Premium economy' in x \n",
    "    else 'Standard'\n",
    ")\n",
    "\n",
    "# Omdanner 'Class' fra tekst til numerisk værdi i en ny kolonne 'class_numb', \n",
    "# så den kan bruges til numerisk analyse som fx korrelationsmatrix.\n",
    "\n",
    "df['class_numb'] = df['Class'].map({\n",
    "    'Standard': 0,\n",
    "    'Premium economy': 1,\n",
    "    'Business': 2\n",
    "})\n",
    "\n",
    "# Tjekker mappingen af 'Class' til numeriske værdier\n",
    "class_mapping = {\n",
    "    'Standard': 0,\n",
    "    'Premium economy': 1,\n",
    "    'Business': 2\n",
    "}\n",
    "\n",
    "# Viser mappingen\n",
    "print(\"Mapping af klasser til numeriske værdier:\")\n",
    "print(class_mapping)\n",
    "\n",
    "# Viser nogle rækker for at bekræfte korrekt omkodning af 'Class'\n",
    "print(df[['Class', 'class_numb']].head())"
   ]
  },
  {
   "cell_type": "code",
   "execution_count": null,
   "id": "3dce3f2a-1fba-4f00-9a71-0ccd02e8969e",
   "metadata": {},
   "outputs": [],
   "source": [
    "# Omdanner 'Airline' fra tekst til numerisk værdi i en ny kolonne 'airline_numb', \n",
    "# så den kan bruges til numerisk analyse som fx korrelationsmatrix.\n",
    "\n",
    "# Laver en liste over unikke flyselskaber\n",
    "unique_airlines = df['Airline'].unique()\n",
    "\n",
    "# Laver en dictionary til mapping, f.eks. 'airline_numb': 0, 1, 2 osv.\n",
    "airline_mapping = {airline: i for i, airline in enumerate(unique_airlines)}\n",
    "\n",
    "# Anvender mapping til at lave en ny numerisk kolonne\n",
    "df['airline_numb'] = df['Airline'].map(airline_mapping)\n",
    "\n",
    "# Tjekker mappingen\n",
    "print(\"Mapping af flyselskaber til numeriske værdier:\")\n",
    "print(airline_mapping)\n",
    "\n",
    "# Viser nogle rækker for at bekræfte\n",
    "print(df[['Airline', 'airline_numb']].head())"
   ]
  },
  {
   "cell_type": "code",
   "execution_count": null,
   "id": "1ee577f3-52e7-44e3-8b2e-9697991dc0ce",
   "metadata": {},
   "outputs": [],
   "source": [
    "# One-hot encoder både 'Class' og 'Airline' kolonnerne\n",
    "dfEncoded = pd.get_dummies(df[['Class', 'Airline']], prefix=['Class', 'Airline'], dtype=pd.Int64Dtype())\n",
    "\n",
    "# Kombinerer 'Price', 'Journey_month' og de one-hot encodede kolonner til et datasæt\n",
    "dfNumeric = pd.concat([df[['Price', 'Journey_month']].reset_index(drop=True), dfEncoded.reset_index(drop=True)], axis=1)\n",
    "\n",
    "# Viser et tilfældigt udsnit\n",
    "dfNumeric.sample(5)"
   ]
  },
  {
   "cell_type": "code",
   "execution_count": null,
   "id": "14445f87-1c60-4c56-9866-f5fc440f7499",
   "metadata": {},
   "outputs": [],
   "source": [
    "# Konverterer alle 'object'-kolonner til 'string'-type\n",
    "for col in df:\n",
    "    if df[col].dtype == 'object':\n",
    "        df[col] = df[col].astype('string')\n",
    "\n",
    "# Tjekker datatyperne efter konvertering\n",
    "df.dtypes"
   ]
  },
  {
   "cell_type": "markdown",
   "id": "2d461c8c-add5-43ee-8144-574bf2884939",
   "metadata": {},
   "source": [
    "# 3. Dataudforskning"
   ]
  },
  {
   "cell_type": "code",
   "execution_count": null,
   "id": "90e11bfa-4935-4773-9bb5-e21acabcfd5e",
   "metadata": {},
   "outputs": [],
   "source": [
    "df.describe()"
   ]
  },
  {
   "cell_type": "markdown",
   "id": "7f92ab2c-89cc-4e00-a485-854b7b99e3ac",
   "metadata": {},
   "source": [
    "Price:\n",
    "Priserne varierer fra 1.759 til 79.512, med en gennemsnitspris på ca. 8.435. Den høje standardafvigelse (4.605) indikerer stor variation i priserne, sandsynligvis som følge af forskelle i rejseklasse og andre forhold.\n",
    "\n",
    "Journey_month: \n",
    "Rejserne fordeler sig over månederne marts (3) til juni (6), med en gennemsnitlig rejsemåned på ca. 4,7, hvilket svarer til midten af april. Den relativt høje standardafvigelse (ca. 1,16) viser, at rejserne spreder sig over hele perioden, men der er en tendens til flere rejser i april og maj (median på 5). Fordelingen indikerer, at rejsemåneden kan have betydning for prisvariationer og bør inkluderes i analysen.\n",
    "\n",
    "class_numb:\n",
    "Næsten alle billetter er i Standard-klassen (0), hvilket ses ved, at både median og alle kvartiler er 0. Den ekstremt lave gennemsnitsværdi (0,003) og standardafvigelse (0,067) viser, at Premium economy (1) og Business (2) kun forekommer i et meget lille antal tilfælde.\n",
    "\n",
    "Denne stærkt ubalancerede fordeling er problematisk i forbindelse med statistisk analyse og maskinlæringsmodeller f.eks. regressionsanalyse eller klassifikationsalgoritmer. Modellerne får svært ved at lære meningsfulde mønstre for de sjældne klasser, hvilket kan føre til skæve resultater, overfitting på Standard-klassen og lav præcision for de øvrige klasser. For at opnå mere robuste og generaliserbare modeller ville en mere balanceret klasserepræsentation være ønskelig.\n",
    "\n",
    "airline_numb:\n",
    "Flyenes selskaber er kodet numerisk fra 0 til 11, hvilket svarer til 12 unikke flyselskaber i datasættet. Den gennemsnitlige værdi på ca. 2,16 viser, at observationerne overvejende er koncentreret omkring de lavere numeriske koder, hvilket kan afspejle, at nogle flyselskaber optræder hyppigere end andre. Standardafvigelsen på 1,90 indikerer, at der er en relativt bred spredning mellem de forskellige flyselskaber, hvilket giver en god variation til at undersøge forskelle i pris og prisvariationer på tværs af selskaber. Denne spredning er vigtig, da den muliggør en meningsfuld analyse af, hvordan prisniveau og variation kan afhænge af flyselskabet, hvilket er centralt i vurderingen af mulige grupperinger eller clusters baseret på flyselskabsdata."
   ]
  },
  {
   "cell_type": "code",
   "execution_count": null,
   "id": "06620594-f033-4c8b-98b7-c2ceaa447ece",
   "metadata": {},
   "outputs": [],
   "source": [
    "df.columns"
   ]
  },
  {
   "cell_type": "markdown",
   "id": "b1f48a15-77f6-4d96-ade4-7646f83b1cce",
   "metadata": {},
   "source": [
    "Vi kan se, at dataene allerede er forholdsvis standardiserede, men lad os konvertere kolonnenavnene til at bruge \"x-y\" i stedet for \"x_y\" for at demonstrere muligheden for at forberede data."
   ]
  },
  {
   "cell_type": "code",
   "execution_count": null,
   "id": "46426f61-f3bf-4c9b-88bb-003a3c93ee0f",
   "metadata": {},
   "outputs": [],
   "source": [
    "import gc\n",
    "\n",
    "dfStan = df.copy()\n",
    "\n",
    "# Skifter kolonnenavne til store bogstaver og erstatter \"_\" med \"-\"\n",
    "dfStan.columns = [col.upper().replace('_', '-') for col in dfStan.columns]\n",
    "\n",
    "print(dfStan.columns)\n",
    "\n",
    "del dfStan\n",
    "\n",
    "# Kører garbage collection for at rydde op i hukommelsen\n",
    "gc.collect()"
   ]
  },
  {
   "cell_type": "markdown",
   "id": "b7fd6eeb-2d96-4dfc-b923-3e40f6688d39",
   "metadata": {},
   "source": [
    "Som nævnt foretager vi ikke en permanent ændring af kolonnenavnene i datasættet, men viser blot, hvordan det kan gøres. \n",
    "\n",
    "Vi vælger dog at konvertere kolonnenavnene til små bogstaver, da det giver et pænere, mere ensartet og læsevenligt datasæt."
   ]
  },
  {
   "cell_type": "code",
   "execution_count": null,
   "id": "82242d48-bc08-4152-b305-a86fe848a2a9",
   "metadata": {},
   "outputs": [],
   "source": [
    "# Skifter kolonnenavne til små bogstaver \n",
    "df.columns = [col.lower() for col in df.columns]\n",
    "\n",
    "print(df.columns)"
   ]
  },
  {
   "cell_type": "markdown",
   "id": "b5e40d0b-4f19-4ccc-b871-7129d25de597",
   "metadata": {},
   "source": [
    "For at opnå en bedre forståelse af prisdataenes fordeling udfører vi først grundlæggende visualiseringer."
   ]
  },
  {
   "cell_type": "code",
   "execution_count": null,
   "id": "3a97d1a9-cc84-4021-bcd4-198329bd9986",
   "metadata": {},
   "outputs": [],
   "source": [
    "from scipy.stats import skew, kurtosis  \n",
    "\n",
    "plt.figure(figsize=(10, 8))\n",
    "\n",
    "# Histogram med KDE øverst\n",
    "plt.subplot(2, 1, 1)\n",
    "sns.histplot(df['price'], kde=True, bins=50)\n",
    "plt.title('Fordeling af Priser - histogram')\n",
    "plt.ylabel('Antal')\n",
    "plt.xlabel('Pris')\n",
    "\n",
    "# Boxplot nederst\n",
    "plt.subplot(2, 1, 2)\n",
    "sns.boxplot(x=df['price'])\n",
    "plt.title('Boxplot af Pris')\n",
    "\n",
    "plt.tight_layout()\n",
    "plt.show()\n",
    "\n",
    "# Beregning af skævhed og kurtosis\n",
    "skewness = skew(df['price'].dropna())\n",
    "kurt = kurtosis(df['price'].dropna())\n",
    "\n",
    "print(f\"Skævhed (Skewness): {skewness}\")\n",
    "print(f\"Kurtosis: {kurt}\")\n",
    "\n",
    "if skewness > 0:\n",
    "    print(\"Fordelingen er højreskæv (positiv skævhed).\")\n",
    "elif skewness < 0:\n",
    "    print(\"Fordelingen er venstreskæv (negativ skævhed).\")\n",
    "else:\n",
    "    print(\"Fordelingen er symmetrisk.\")\n",
    "\n",
    "if kurt > 3:\n",
    "    print(\"Fordelingen er spidsere end en normalfordeling (høj kurtosis).\")\n",
    "elif kurt < 3:\n",
    "    print(\"Fordelingen er fladere end en normalfordeling (lav kurtosis).\")\n",
    "else:\n",
    "    print(\"Fordelingen har samme spidshed som en normalfordeling.\")\n"
   ]
  },
  {
   "cell_type": "markdown",
   "id": "dd51825d-6049-45ea-87be-7e405c48de1d",
   "metadata": {},
   "source": [
    "Fordelingen er højreskæv (positiv skævhed), hvilket betyder, at der er flere lavere værdier, og den højre hale af fordelingen er længere.\n",
    "\n",
    "Fordelingen har også høj kurtosis, hvilket indikerer, at dataene er spidsere end en normalfordeling, og der er flere ekstreme værdier (outliers) end vi ville forvente i en normalfordeling. Dette tyder på, at vores data kan indeholde nogle ekstreme observationer, som vi vil fjerne ved hjælp af z-score og IQR teknikkerne for at forbedre modellens præcision."
   ]
  },
  {
   "cell_type": "code",
   "execution_count": null,
   "id": "5a771d22-e2e1-4421-9e86-25feab92f0b1",
   "metadata": {},
   "outputs": [],
   "source": [
    "from datarenser import get_no_outliers_df_train\n",
    "\n",
    "# Fjerner både IQR‑outliers og z-score‑outliers med et metodekald\n",
    "df_final = get_no_outliers_df_train(df)\n",
    "\n",
    "# Tjekker dimensioner før/efter\n",
    "print(f\"Før outlier-fjernelse: {df.shape}\")\n",
    "print(f\"Efter outlier-fjernelse: {df_final.shape}\")"
   ]
  },
  {
   "cell_type": "code",
   "execution_count": null,
   "id": "c5297814-4b03-43df-89ab-85c75b1ae6db",
   "metadata": {},
   "outputs": [],
   "source": [
    "from scipy.stats import skew, kurtosis  \n",
    "\n",
    "plt.figure(figsize=(10, 8))\n",
    "\n",
    "# Histogram efter outlier-fjernelse\n",
    "plt.subplot(2, 1, 1)\n",
    "sns.histplot(df_final['price'], kde=True, bins=50)\n",
    "plt.title('Histogram af Pris Efter outlier-fjernelse')\n",
    "plt.xlabel('Pris')\n",
    "plt.ylabel('Antal')\n",
    "\n",
    "# Boxplot efter outlier-fjernelse\n",
    "plt.subplot(2, 1, 2)\n",
    "sns.boxplot(x=df_final['price'])\n",
    "plt.title('Boxplot af Pris Efter outlier-fjernelse')\n",
    "\n",
    "plt.tight_layout()\n",
    "plt.show()\n",
    "\n",
    "# Beregning af skævhed og kurtosis efter outlier-fjernelse\n",
    "skewness_after = skew(df_final['price'].dropna())\n",
    "kurt_after = kurtosis(df_final['price'].dropna())\n",
    "\n",
    "print(f\"Skævhed (Skewness): {skewness_after:.2f}\")\n",
    "print(f\"Kurtosis: {kurt_after:.2f}\")\n",
    "\n",
    "if skewness_after > 0:\n",
    "    print(\"Fordelingen er højreskæv (positiv skævhed).\")\n",
    "elif skewness_after < 0:\n",
    "    print(\"Fordelingen er venstreskæv (negativ skævhed).\")\n",
    "else:\n",
    "    print(\"Fordelingen er symmetrisk.\")\n",
    "\n",
    "if kurt_after > 3:\n",
    "    print(\"Fordelingen er spidsere end en normalfordeling (høj kurtosis).\")\n",
    "elif kurt_after < 3:\n",
    "    print(\"Fordelingen er fladere end en normalfordeling (lav kurtosis).\")\n",
    "else:\n",
    "    print(\"Fordelingen har samme spidshed som en normalfordeling.\")"
   ]
  },
  {
   "cell_type": "code",
   "execution_count": null,
   "id": "b6059b4c-1b5d-4f64-befa-ccd0d7f4dca5",
   "metadata": {},
   "outputs": [],
   "source": [
    "# Scatterplot: price vs class\n",
    "plt.figure(figsize=(8, 6))\n",
    "sns.stripplot(data=df, x='class', y='price', jitter=True, alpha=0.6)\n",
    "plt.title('Scatterplot: Pris pr. klasse (med outliers)')\n",
    "plt.xlabel('Billetklasse')\n",
    "plt.ylabel('Pris')\n",
    "plt.tight_layout()\n",
    "plt.show()\n",
    "\n",
    "# Histogram: prisfordeling pr. klasse\n",
    "plt.figure(figsize=(10, 6))\n",
    "sns.histplot(data=df, x='price', hue='class', bins=50, kde=True, multiple='stack')\n",
    "plt.title('Histogram: Prisfordeling pr. klasse (med outliers)')\n",
    "plt.xlabel('Pris')\n",
    "plt.ylabel('Antal')\n",
    "plt.tight_layout()\n",
    "plt.show()\n",
    "\n",
    "# Boxplot: Pris pr. klasse\n",
    "plt.figure(figsize=(8, 6))\n",
    "sns.boxplot(data=df, x='class', y='price')\n",
    "plt.title('Boxplot: Pris pr. klasse (med outliers)')\n",
    "plt.xlabel('Billetklasse')\n",
    "plt.ylabel('Pris')\n",
    "plt.tight_layout()\n",
    "plt.show()\n",
    "\n",
    "# Beregner og udskriver gennemsnitspriser pr. klasse sorteret i stigende rækkefølge med outliers\n",
    "mean_prices = df.groupby('class')['price'].mean().sort_values()\n",
    "\n",
    "print(\"Gennemsnitspriser pr. klasse (med outliers):\")\n",
    "for klasse, pris in mean_prices.items():\n",
    "    print(f\"{klasse}: {pris:.2f}\")\n"
   ]
  },
  {
   "cell_type": "code",
   "execution_count": null,
   "id": "2ac9d12f-920d-4f24-853a-07269b2b0bf5",
   "metadata": {},
   "outputs": [],
   "source": [
    "# Scatterplot: price vs class\n",
    "plt.figure(figsize=(8, 6))\n",
    "sns.stripplot(data=df_final, x='class', y='price', jitter=True, alpha=0.6)\n",
    "plt.title('Scatterplot: Pris pr. klasse (uden outliers)')\n",
    "plt.xlabel('Billetklasse')\n",
    "plt.ylabel('Pris')\n",
    "plt.tight_layout()\n",
    "plt.show()\n",
    "\n",
    "# Histogram: prisfordeling pr. klasse\n",
    "plt.figure(figsize=(10, 6))\n",
    "sns.histplot(data=df_final, x='price', hue='class', bins=50, kde=True, multiple='stack')\n",
    "plt.title('Histogram: Prisfordeling pr. klasse (uden outliers)')\n",
    "plt.xlabel('Pris')\n",
    "plt.ylabel('Antal')\n",
    "plt.tight_layout()\n",
    "plt.show()\n",
    "\n",
    "# Boxplot: Pris pr. klasse\n",
    "plt.figure(figsize=(8, 6))\n",
    "sns.boxplot(data=df_final, x='class', y='price')\n",
    "plt.title('Boxplot: Pris pr. klasse (uden outliers)' )\n",
    "plt.xlabel('Billetklasse')\n",
    "plt.ylabel('Pris')\n",
    "plt.tight_layout()\n",
    "plt.show()\n",
    "\n",
    "# Beregner og udskriver gennemsnitspriser pr. klasse sorteret i stigende rækkefølge uden outliers\n",
    "mean_prices = df_final.groupby('class')['price'].mean().sort_values()\n",
    "\n",
    "print(\"Gennemsnitspriser pr. klasse (uden outliers):\")\n",
    "for klasse, pris in mean_prices.items():\n",
    "    print(f\"{klasse}: {pris:.2f}\")\n"
   ]
  },
  {
   "cell_type": "markdown",
   "id": "4daa093a-f34e-4985-96fd-11dd07601b48",
   "metadata": {},
   "source": [
    "Under analysen blev Business-klassen fjernet som outliers på grund af deres naturligt højere priser sammenlignet med de øvrige klasser. Da disse priser er væsentlige for forståelsen af prisstrukturen, har vi valgt ikke at fjerne disse outliers for at bevare vigtig information. Derfor fortsætter vi analysen med datasættet inklusive outliers, så vi bedre kan afspejle, at Business-klassen har en højere pris end standardversionerne inden for samme flyselskab."
   ]
  },
  {
   "cell_type": "markdown",
   "id": "17ac3f78-bd74-43da-ba65-61a4b1ff477f",
   "metadata": {},
   "source": [
    "Resultatet viser tydeligt, at priserne varierer betydeligt mellem standard og premium-versionerne inden for samme flyselskab.\n",
    "\n",
    "Gennemsnitsprisen for standardklassen ligger omkring 8.396, mens Premium Economy har en højere gennemsnitspris på cirka 10.938. Dette indikerer, at Premium Economy tilbyder ekstra komfort eller services, som reflekteres i den højere pris.\n",
    "\n",
    "Business-klassen skiller sig markant ud med en gennemsnitspris på hele 58.359, hvilket er væsentligt højere end både standard og Premium Economy. Dette understreger, at Business er en premium-version med en betydeligt højere pris, som afspejler dens luksus og ekstra ydelser.\n",
    "\n",
    "Sammenfattende viser analysen, at premium-versionerne, især Business-klassen, har en markant højere pris end standardversionerne, hvilket bekræfter, at prisniveauet stiger i takt med billetklassens premium-status inden for samme flyselskab."
   ]
  },
  {
   "cell_type": "code",
   "execution_count": null,
   "id": "e771b69d-32ca-48f1-9052-c7cf34fb74f2",
   "metadata": {},
   "outputs": [],
   "source": [
    "# Scatterplot: price vs journey_month\n",
    "plt.figure(figsize=(8, 6))\n",
    "sns.stripplot(data=df, x='journey_month', y='price', jitter=True, alpha=0.6)\n",
    "plt.title('Scatterplot: Pris pr. rejsemåned (med outliers)')\n",
    "plt.xlabel('Rejsemåned')\n",
    "plt.ylabel('Pris')\n",
    "plt.tight_layout()\n",
    "plt.show()\n",
    "\n",
    "# Histogram: prisfordeling pr. rejsemåned\n",
    "plt.figure(figsize=(10, 6))\n",
    "sns.histplot(data=df, x='price', hue='journey_month', bins=50, kde=True, multiple='stack')\n",
    "plt.title('Histogram: Prisfordeling pr. rejsemåned (med outliers)')\n",
    "plt.xlabel('Pris')\n",
    "plt.ylabel('Antal')\n",
    "plt.tight_layout()\n",
    "plt.show()\n",
    "\n",
    "# Boxplot: Pris pr. rejsemåned\n",
    "plt.figure(figsize=(8, 6))\n",
    "sns.boxplot(data=df, x='journey_month', y='price')\n",
    "plt.title('Boxplot: Pris pr. rejsemåned (med outliers)')\n",
    "plt.xlabel('Rejsemåned')\n",
    "plt.ylabel('Pris')\n",
    "plt.tight_layout()\n",
    "plt.show()\n",
    "\n",
    "mean_prices = df.groupby('journey_month')['price'].mean().sort_index()\n",
    "\n",
    "print(\"Gennemsnitspriser pr. rejsemåned (med outliers):\")\n",
    "for month, pris in mean_prices.items():\n",
    "    print(f\"{month}: {pris:.2f}\")"
   ]
  },
  {
   "cell_type": "code",
   "execution_count": null,
   "id": "dc52e042-2208-42f5-a60f-1635d66f8717",
   "metadata": {},
   "outputs": [],
   "source": [
    "# Scatterplot: price vs journey_month\n",
    "plt.figure(figsize=(8, 6))\n",
    "sns.stripplot(data=df_final, x='journey_month', y='price', jitter=True, alpha=0.6)\n",
    "plt.title('Scatterplot: Pris pr. rejsemåned (uden outliers)')\n",
    "plt.xlabel('Rejsemåned')\n",
    "plt.ylabel('Pris')\n",
    "plt.tight_layout()\n",
    "plt.show()\n",
    "\n",
    "# Histogram: prisfordeling pr. rejsemåned\n",
    "plt.figure(figsize=(10, 6))\n",
    "sns.histplot(data=df_final, x='price', hue='journey_month', bins=50, kde=True, multiple='stack')\n",
    "plt.title('Histogram: Prisfordeling pr. rejsemåned (uden outliers)')\n",
    "plt.xlabel('Pris')\n",
    "plt.ylabel('Antal')\n",
    "plt.tight_layout()\n",
    "plt.show()\n",
    "\n",
    "# Boxplot: Pris pr. rejsemåned\n",
    "plt.figure(figsize=(8, 6))\n",
    "sns.boxplot(data=df_final, x='journey_month', y='price')\n",
    "plt.title('Boxplot: Pris pr. rejsemåned (uden outliers)')\n",
    "plt.xlabel('Rejsemåned')\n",
    "plt.ylabel('Pris')\n",
    "plt.tight_layout()\n",
    "plt.show()\n",
    "\n",
    "# Gennemsnitspriser pr. rejsemåned\n",
    "mean_prices = df_final.groupby('journey_month')['price'].mean().sort_index()\n",
    "\n",
    "print(\"Gennemsnitspriser pr. rejsemåned (uden outliers):\")\n",
    "for month, pris in mean_prices.items():\n",
    "    print(f\"{month}: {pris:.2f}\")"
   ]
  },
  {
   "cell_type": "markdown",
   "id": "b38e5281-d171-4823-acd8-b71184027d2c",
   "metadata": {},
   "source": [
    "Priserne varierer tydeligt afhængigt af rejsemåneden. Den laveste gennemsnitspris findes i april (måned 4) med cirka 5.472, hvilket tyder på, at det er en mere økonomisk måned at rejse i. Priserne stiger markant i maj og juni (måneder 5 og 6) til omkring 8.300-8.230, hvilket indikerer øget efterspørgsel eller sæsonbestemte prisstigninger i disse måneder. Den højeste gennemsnitspris observeres i marts (måned 3) med cirka 9.286 uden outliers og endnu højere (ca. 10.135) når outliers inkluderes. Dette antyder, at rejser i marts generelt er dyrere, muligvis grundet ferieperioder eller andre faktorer, der påvirker efterspørgslen. \n",
    "\n",
    "Samlet set viser analysen, at rejsemåneden har en væsentlig indflydelse på prisniveauet især skiller marts sig ud som den dyreste måned, mens april fremstår som den billigste."
   ]
  },
  {
   "cell_type": "code",
   "execution_count": null,
   "id": "a3ce07b2-25da-4e77-a2b9-d263240e8fc1",
   "metadata": {},
   "outputs": [],
   "source": [
    "# Lineplot: Prisudvikling pr. flyselskab over rejsemåneder med outliers inkluderet\n",
    "plt.figure(figsize=(14, 7))\n",
    "sns.lineplot(data=df, x='journey_month', y='price', hue='airline', marker='o')\n",
    "plt.title('Lineplot: Gennemsnitspris pr. Flyselskab pr. Måned (med outliers)')\n",
    "plt.xlabel('Rejsemåned')\n",
    "plt.ylabel('Pris')\n",
    "plt.legend(title='Flyselskab', bbox_to_anchor=(1.05, 1), loc='upper left')\n",
    "plt.tight_layout()\n",
    "plt.show()"
   ]
  },
  {
   "cell_type": "code",
   "execution_count": null,
   "id": "01fc937d-88aa-4d9d-bdda-305ff6df3b65",
   "metadata": {},
   "outputs": [],
   "source": [
    "# Lineplot: Prisudvikling pr. flyselskab over rejsemåneder uden outliers\n",
    "plt.figure(figsize=(14, 7))\n",
    "sns.lineplot(data=df_final, x='journey_month', y='price', hue='airline', marker='o')\n",
    "plt.title('Lineplot: Gennemsnitspris pr. Flyselskab pr. Måned (uden outliers)')\n",
    "plt.xlabel('Rejsemåned')\n",
    "plt.ylabel('Pris')\n",
    "plt.legend(title='Flyselskab', bbox_to_anchor=(1.05, 1), loc='upper left')\n",
    "plt.tight_layout()\n",
    "plt.show()"
   ]
  },
  {
   "cell_type": "code",
   "execution_count": null,
   "id": "b814ae99-33b5-4240-9353-7b62a4acc4d4",
   "metadata": {},
   "outputs": [],
   "source": [
    "# Barplot: Gennemsnitspris pr. klasse og flyselskab\n",
    "mean_prices_per_class = df.groupby(['airline', 'class'])['price'].mean().reset_index()\n",
    "\n",
    "plt.figure(figsize=(14, 7))\n",
    "sns.barplot(data=mean_prices_per_class, x='airline', y='price', hue='class')\n",
    "plt.title('Barplot: Gennemsnitspris pr. Klasse og Flyselskab')\n",
    "plt.ylabel('Pris')\n",
    "plt.xlabel('Flyselskab')\n",
    "plt.xticks(rotation=45)\n",
    "plt.tight_layout()\n",
    "plt.show()"
   ]
  },
  {
   "cell_type": "code",
   "execution_count": null,
   "id": "a3c96fc2-66ef-4625-9cb7-d23d4343fc90",
   "metadata": {},
   "outputs": [],
   "source": [
    "# Boxplot: Prisvariation pr. flyselskab med outliers\n",
    "plt.figure(figsize=(14, 7))\n",
    "sns.boxplot(data=df, x='airline', y='price')\n",
    "plt.title('Boxplot: Prisvariation pr. Flyselskab (med outliers)')\n",
    "plt.xlabel('Flyselskab')\n",
    "plt.ylabel('Pris')\n",
    "plt.xticks(rotation=45)\n",
    "plt.tight_layout()\n",
    "plt.show()"
   ]
  },
  {
   "cell_type": "code",
   "execution_count": null,
   "id": "95f9341f-76a8-4654-baa1-07b37b32cf63",
   "metadata": {},
   "outputs": [],
   "source": [
    "# Boxplot: Prisvariation pr. flyselskab uden outliers\n",
    "plt.figure(figsize=(14, 7))\n",
    "sns.boxplot(data=df_final, x='airline', y='price')\n",
    "plt.title('Boxplot: Prisvariation pr. Flyselskab (uden outliers)')\n",
    "plt.xlabel('Flyselskab')\n",
    "plt.ylabel('Pris')\n",
    "plt.xticks(rotation=45)\n",
    "plt.tight_layout()\n",
    "plt.show()"
   ]
  },
  {
   "cell_type": "code",
   "execution_count": null,
   "id": "a7d9a559-9231-4ad5-8c63-7e166d9195f5",
   "metadata": {},
   "outputs": [],
   "source": [
    "# Boxplot: Prisvariation pr. flyselskab og klasse (med outliers)\n",
    "plt.figure(figsize=(14, 7))\n",
    "sns.boxplot(data=df, x='airline', y='price', hue='class')\n",
    "plt.title('Prisvariation pr. Flyselskab og Klasse (Boxplot)')\n",
    "plt.xlabel('Flyselskab')\n",
    "plt.ylabel('Pris')\n",
    "plt.xticks(rotation=45)\n",
    "plt.tight_layout()\n",
    "plt.show()"
   ]
  },
  {
   "cell_type": "code",
   "execution_count": null,
   "id": "6b718c61-0384-4605-a367-e7e3517072c6",
   "metadata": {},
   "outputs": [],
   "source": [
    "# Vælger de relevante kolonner til korrelationsanalyse: pris og den omkodede klasse\n",
    "cols_to_corr = ['price', 'class_numb']\n",
    "print(\"Valgte kolonner til korrelationsanalyse:\", cols_to_corr)\n",
    "\n",
    "# Beregner korrelationsmatrix for valgte variabler\n",
    "corr = df[cols_to_corr].corr()\n",
    "print(\"Beregnet korrelationsmatrix:\")\n",
    "print(corr)\n",
    "\n",
    "# Visualiserer korrelationsmatrixen som heatmap\n",
    "plt.figure(figsize=(5,4))\n",
    "sns.heatmap(corr, annot=True, fmt=\".2f\", cmap='coolwarm', vmin=-1, vmax=1)\n",
    "plt.title(\"Korrelationsmatrix: Pris vs. Klasse\")\n",
    "plt.show()"
   ]
  },
  {
   "cell_type": "markdown",
   "id": "b8f9c658-b288-4270-93a6-b6a3a4b568d9",
   "metadata": {},
   "source": [
    "Korrelationsmatrixen viser en svag til moderat positiv sammenhæng på omkring 0,24 mellem pris og flyklasse (class_numb). Det indikerer, at prisen typisk øges, jo højere klassen er (Standard < Premium economy < Business), men denne relation er ikke særlig stærk. Det tyder på, at der også er andre faktorer, der spiller ind på prisen."
   ]
  },
  {
   "cell_type": "code",
   "execution_count": null,
   "id": "144b0cb3-41c6-446a-9e7f-12ece9b09672",
   "metadata": {},
   "outputs": [],
   "source": [
    "avg_prices = df.groupby(['airline', 'class'])['price'].mean().unstack()\n",
    "print(\"\\nGennemsnitspriser pr. flyselskab og klasse:\")\n",
    "print(avg_prices)"
   ]
  },
  {
   "cell_type": "markdown",
   "id": "11c86244-cff9-4e8f-9ef6-6761d4d28f3d",
   "metadata": {},
   "source": [
    "Gennemsnittene bekræfter, at Business class generelt har de højeste priser, efterfulgt af Premium economy, mens Standard class er billigst. Dog er der flyselskaber, som kun tilbyder visse klasser i datasættet, hvilket fremgår af NaN-værdierne. Eksempelvis har 'Jet Airways Business' kun Business klasse-data, mens 'Vistara Premium economy' kun har Premium economy-priser. Standard klassen er tilgængelig på alle flyselskaber og har de laveste gennemsnitspriser."
   ]
  },
  {
   "cell_type": "code",
   "execution_count": null,
   "id": "b388c69f-4772-4e9f-af57-75eb90750937",
   "metadata": {},
   "outputs": [],
   "source": [
    "# Udvælgelse af kolonner til korrelationsanalyse: pris og rejsemåned\n",
    "cols_to_corr = ['price', 'journey_month']\n",
    "\n",
    "# Beregn korrelationsmatrix\n",
    "corr = df[['price', 'journey_month']].corr()\n",
    "\n",
    "# Udskriv korrelation\n",
    "print(\"Korrelationsmatrix mellem pris og rejsemåned:\")\n",
    "print(corr)\n",
    "\n",
    "# Visualiser som heatmap\n",
    "plt.figure(figsize=(5, 4))\n",
    "sns.heatmap(corr, annot=True, fmt=\".2f\", cmap='coolwarm', vmin=-1, vmax=1)\n",
    "plt.title(\"Korrelationsmatrix: Pris vs. Rejsemåned\")\n",
    "plt.show()"
   ]
  },
  {
   "cell_type": "markdown",
   "id": "dd795fa0-2f8e-49b9-a749-2ff19af25047",
   "metadata": {},
   "source": [
    "Der er udvalgt kolonnerne price og journey_month for at undersøge sammenhængen mellem pris og rejsemåned. Korrelationsmatrixen viser en svag negativ korrelation på omkring -0,11, hvilket antyder, at priserne i gennemsnit falder en smule fra marts til juni.\n",
    "\n",
    "Selvom der er en svag tendens til lavere priser i de senere måneder, er korrelationen så lav, at rejsemåneden alene næsten ingen betydning har for prisvariationerne."
   ]
  },
  {
   "cell_type": "code",
   "execution_count": null,
   "id": "7be2f488-ec6e-4228-b59d-84ebd056b258",
   "metadata": {},
   "outputs": [],
   "source": [
    "# Udvælger relevante numeriske kolonner\n",
    "corr_df = df[['price', 'class_numb', 'journey_month', 'airline_numb']]\n",
    "\n",
    "# Beregner korrelationer mellem de udvalgte variabler\n",
    "corr = corr_df.corr()\n",
    "\n",
    "# Printer korrelationsmatrixen\n",
    "print(\"Korrelationsmatrix:\")\n",
    "print(corr)\n",
    "\n",
    "# Visualiserer korrelationerne med heatmap\n",
    "plt.figure(figsize=(8, 6))\n",
    "sns.heatmap(corr, annot=True, cmap='coolwarm', fmt=\".2f\", linewidths=0.5)\n",
    "plt.title('Korrelationsmatrix – Pris, Måned, Klasse og Flyselskab')\n",
    "plt.tight_layout()\n",
    "plt.show()"
   ]
  },
  {
   "cell_type": "markdown",
   "id": "9b0f861c-f2eb-4726-94a8-2ae54b7365a4",
   "metadata": {},
   "source": [
    "Korrelationsmatrixen viser, at der er en svag negativ sammenhæng mellem pris og rejsemåned (-0,11). Dette indikerer, at priserne generelt falder en smule over månederne 3 til 6, men sammenhængen er ikke stærk eller lineær. Faktisk ses fra gennemsnitspriserne, at prisen falder markant i april (måned 4), men derefter stiger igen i maj og juni. Denne uregelmæssige variation gør, at korrelationskoefficienten kun fanger en svag lineær tendens.\n",
    "\n",
    "Derudover viser matrixen en moderat positiv sammenhæng mellem pris og klasse (0,24), hvilket tyder på, at højere klasser (f.eks. Business) generelt har højere priser. Sammenhængen mellem pris og flyselskab er svag positiv (0,09), hvilket antyder, at priserne varierer lidt afhængigt af flyselskabet, men denne effekt er begrænset.\n",
    "\n",
    "Kort sagt afspejler korrelationsmatrixen, at prisvariationerne i højere grad er påvirket af klassen end af rejsemåneden eller flyselskabet, og at prisudviklingen over rejsemånederne ikke følger et simpelt lineært mønster."
   ]
  },
  {
   "cell_type": "code",
   "execution_count": null,
   "id": "00b3f794-e9a7-4c28-b75c-6d22553465a0",
   "metadata": {},
   "outputs": [],
   "source": [
    "mean_std_by_airline = df.groupby('airline')['price'].agg(['mean', 'std']).sort_values(by='mean', ascending=False)\n",
    "print(\"Gennemsnitspris og standardafvigelse pr. flyselskab:\\n\")\n",
    "print(mean_std_by_airline)"
   ]
  },
  {
   "cell_type": "markdown",
   "id": "3fe98395-84ec-4413-b598-f9a4c3b406fb",
   "metadata": {},
   "source": [
    "Analysen af gennemsnitspriser og prisvariationer pr. flyselskab viser tydelige forskelle i både prisniveau og prisudsving på tværs af selskaberne. Jet Airways Business har den højeste gennemsnitspris på omkring 58.359, hvilket afspejler, at det er en premium-klasse med markant højere priser end de øvrige flyselskaber. Andre flyselskaber som Multiple carriers Premium economy og Jet Airways befinder sig også i den højere prisklasse, men med væsentligt lavere gennemsnitspriser. I den lave ende finder vi flyselskaber som SpiceJet og Trujet, der har gennemsnitspriser under 5.000. Ved at se på standardafvigelsen, som angiver prisvariation, konstateres det, at Jet Airways Business har en stor prisvariation, hvilket kan skyldes forskellige prisstrategier eller sæsonbestemte udsving. Flyselskaber med lavere standardafvigelse har derimod mere stabile priser. Resultatet af denne analyse giver værdifuld indsigt i, hvordan flyselskaber adskiller sig både med hensyn til prisniveau og prisvariation, og udgør et solidt grundlag for videre segmentering og clustering."
   ]
  },
  {
   "cell_type": "code",
   "execution_count": null,
   "id": "f307d76e-879b-4b8a-aa95-30e4ec139fe4",
   "metadata": {},
   "outputs": [],
   "source": [
    "print(\"\\nObservationer og hypoteser til clustering:\")\n",
    "for airline, row in mean_std_by_airline.iterrows():\n",
    "    if row['std'] > 10000:\n",
    "        print(f\"• {airline}: Høj prisvariation – potentielt eget cluster\")\n",
    "    elif row['std'] < 3000:\n",
    "        print(f\"• {airline}: Stabil pris – muligvis i gruppe med andre stabile selskaber\")"
   ]
  },
  {
   "cell_type": "markdown",
   "id": "692f6973-ceec-4d81-bd01-32f3c7026235",
   "metadata": {},
   "source": [
    "Før vi anvender k-means clustering til at gruppere flyselskaber baseret på prisvariationer, har vi analyseret gennemsnitspriser og standardafvigelser pr. flyselskab for bedre at forstå dataens karakteristika. Resultaterne viser, at Jet Airways Business adskiller sig markant med en høj gennemsnitspris og en stor prisvariation, hvilket indikerer, at dette flyselskab sandsynligvis vil udgøre et selvstændigt cluster.\n",
    "\n",
    "De øvrige flyselskaber, herunder Multiple carriers Premium economy, Vistara Premium economy, Vistara, GoAir, IndiGo, Air Asia og SpiceJet, viser relativt stabile priser med lavere standardafvigelser. Disse selskaber forventes at gruppere sig i fælles clustre karakteriseret ved lav prisvariation.\n",
    "\n",
    "Denne indledende analyse bidrager til at forme vores forventninger til clustering-resultatet."
   ]
  },
  {
   "cell_type": "code",
   "execution_count": null,
   "id": "4ec9e691-93a3-4c06-be4c-9376395d59a0",
   "metadata": {},
   "outputs": [],
   "source": [
    "from sklearn.preprocessing import StandardScaler\n",
    "\n",
    "# Tjek for manglende værdier før skalering\n",
    "print(\"Manglende værdier før skalering:\")\n",
    "print(dfNumeric[['Price', 'Journey_month']].isnull().sum())\n",
    "\n",
    "# Standard skalering af 'Price'\n",
    "scaler = StandardScaler()\n",
    "dfNumeric[['Price', 'Journey_month']] = scaler.fit_transform(dfNumeric[['Price', 'Journey_month']])\n",
    "\n",
    "# Udskriv et udsnit af data efter skalering\n",
    "print(\"\\nSkalerede numeriske features + one-hot encoded kategorier (første 5 rækker):\")\n",
    "print(dfNumeric.head())\n",
    "\n",
    "# Tjek middelværdi og standardafvigelse efter skalering\n",
    "print(\"\\nMiddelværdi og standardafvigelse efter skalering for 'Price':\")\n",
    "print(dfNumeric[['Price', 'Journey_month']].agg(['mean', 'std']))"
   ]
  },
  {
   "cell_type": "markdown",
   "id": "38c3a77e-4c6b-4690-85fc-d9693106e613",
   "metadata": {},
   "source": [
    "Middelværdien af de skalerede features ligger tæt på 0 (alle omkring ±0.00000), og standardafvigelsen er cirka 1.00006 for alle variabler. Dette bekræfter, at standardiseringen er udført korrekt, og at data nu er centreret og skaleret ensartet. Der er ingen manglende værdier i de anvendte features. Data er derfor klar til clustering med k-means, som kan bruges til at kategorisere flyselskaber baseret på prisvariationer over rejsemåneden samt forskelle mellem standard og premium-versioner."
   ]
  },
  {
   "cell_type": "markdown",
   "id": "975c6be6-49c9-41ad-8a44-10d0a44d4830",
   "metadata": {},
   "source": [
    "# 4. Datamodellering"
   ]
  }
 ],
 "metadata": {
  "kernelspec": {
   "display_name": "Python [conda env:base] *",
   "language": "python",
   "name": "conda-base-py"
  },
  "language_info": {
   "codemirror_mode": {
    "name": "ipython",
    "version": 3
   },
   "file_extension": ".py",
   "mimetype": "text/x-python",
   "name": "python",
   "nbconvert_exporter": "python",
   "pygments_lexer": "ipython3",
   "version": "3.12.7"
  }
 },
 "nbformat": 4,
 "nbformat_minor": 5
}
